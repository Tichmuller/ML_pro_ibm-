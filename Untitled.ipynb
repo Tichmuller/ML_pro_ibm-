{
 "cells": [
  {
   "cell_type": "code",
   "execution_count": null,
   "id": "7181fccf-2eea-4230-99fc-20dcfc281526",
   "metadata": {},
   "outputs": [],
   "source": [
    "def example_word_count():\n",
    "    # This example question requires counting words in the example_string below.\n",
    "    example_string = \"Amy is 5 years old\"\n",
    "    \n",
    "    # YOUR CODE HERE.\n",
    "    # You should write your solution here, and return your result, you can comment out or delete the\n",
    "    # NotImplementedError below.\n",
    "    result = example_string.split(\" \")\n",
    "    return len(result)\n",
    "\n",
    "\n"
   ]
  },
  {
   "cell_type": "code",
   "execution_count": null,
   "id": "2488eaa5-bd54-4ee7-b34e-69108d3b992f",
   "metadata": {},
   "outputs": [],
   "source": [
    "import re\n",
    "def names():\n",
    "    simple_string=\"\"\"Amy is 5 years old, and her sister Mary is 2 years old. Ruth and Peter, their parents, have 3 kids.\"\"\"\n",
    "formula = ('[A-Z][\\w]{1,4}')\n",
    "names=re.findall(formula,simple_string)\n",
    "print(names())"
   ]
  },
  {
   "cell_type": "code",
   "execution_count": null,
   "id": "abd7d3a2-692e-4343-b04f-4e495a117f0e",
   "metadata": {},
   "outputs": [],
   "source": [
    "assert len(names()) == 4, \"There are four names in the simple_string\""
   ]
  },
  {
   "cell_type": "code",
   "execution_count": null,
   "id": "34e64f41-459d-4191-9b13-ec6db89f96c5",
   "metadata": {},
   "outputs": [],
   "source": [
    "print names()"
   ]
  },
  {
   "cell_type": "code",
   "execution_count": null,
   "id": "016b79ac-9d01-418d-8959-be8ae2b26ef4",
   "metadata": {},
   "outputs": [],
   "source": []
  }
 ],
 "metadata": {
  "kernelspec": {
   "display_name": "Python 3 (ipykernel)",
   "language": "python",
   "name": "python3"
  },
  "language_info": {
   "codemirror_mode": {
    "name": "ipython",
    "version": 3
   },
   "file_extension": ".py",
   "mimetype": "text/x-python",
   "name": "python",
   "nbconvert_exporter": "python",
   "pygments_lexer": "ipython3",
   "version": "3.8.10"
  }
 },
 "nbformat": 4,
 "nbformat_minor": 5
}
